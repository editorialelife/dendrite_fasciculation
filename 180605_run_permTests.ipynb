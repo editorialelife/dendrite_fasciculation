{
 "cells": [
  {
   "cell_type": "code",
   "execution_count": 1,
   "metadata": {
    "collapsed": true,
    "deletable": true,
    "editable": true
   },
   "outputs": [],
   "source": [
    "import numpy as np\n",
    "import os\n",
    "from numpy import random\n",
    "from matplotlib import pyplot as plt\n",
    "import pandas as pd"
   ]
  },
  {
   "cell_type": "code",
   "execution_count": 2,
   "metadata": {
    "collapsed": true,
    "deletable": true,
    "editable": true
   },
   "outputs": [],
   "source": [
    "from permutationTestFuncs import *"
   ]
  },
  {
   "cell_type": "code",
   "execution_count": 3,
   "metadata": {
    "code_folding": [
     0
    ],
    "collapsed": true,
    "deletable": true,
    "editable": true
   },
   "outputs": [],
   "source": [
    "def applyAll(WT, mutant, timepoint, number_of_loops=500):\n",
    "    perm_test = permutationTest(WT, \n",
    "                                mutant, \n",
    "                                timepoint, \n",
    "                                number_of_loops)\n",
    "\n",
    "    saveFisherCsvAndPlots(perm_test[0], \n",
    "                          perm_test[1], \n",
    "                          perm_test[2], \n",
    "                          perm_test[3], \n",
    "                          perm_test[4],\n",
    "                          perm_test[5])"
   ]
  },
  {
   "cell_type": "markdown",
   "metadata": {
    "deletable": true,
    "editable": true
   },
   "source": [
    "# genotype v. random"
   ]
  },
  {
   "cell_type": "code",
   "execution_count": 4,
   "metadata": {
    "collapsed": false,
    "deletable": true,
    "editable": true
   },
   "outputs": [
    {
     "name": "stdout",
     "output_type": "stream",
     "text": [
      "24h WT done\n",
      "24h ky146 done\n",
      "24h mu256 done\n",
      "72h WT done\n",
      "72h ky146 done\n",
      "72h mu256 done\n"
     ]
    }
   ],
   "source": [
    "WT = 'random'\n",
    "timepoint = ['24h', '72h']\n",
    "mutant = ['WT', 'ky146', 'mu256']\n",
    "\n",
    "for tp in timepoint:\n",
    "    for mut in mutant:\n",
    "        applyAll(WT, mut, tp)\n",
    "        print(tp, mut, 'done')"
   ]
  },
  {
   "cell_type": "code",
   "execution_count": 5,
   "metadata": {
    "collapsed": false,
    "deletable": true,
    "editable": true
   },
   "outputs": [],
   "source": [
    "applyAll('random', 'rh310', '24h')"
   ]
  },
  {
   "cell_type": "code",
   "execution_count": 6,
   "metadata": {
    "collapsed": false,
    "deletable": true,
    "editable": true,
    "scrolled": true
   },
   "outputs": [
    {
     "name": "stdout",
     "output_type": "stream",
     "text": [
      "48h e1745 done\n",
      "48h eq1 done\n",
      "48h hmnIs23 M153L2 done\n",
      "48h ky146 done\n",
      "48h ky146mu256 done\n",
      "48h m86sa204 done\n",
      "48h M132L4 done\n",
      "48h M144L2 N2 done\n",
      "48h M157L1 done\n",
      "48h mu256 done\n",
      "48h nj53 done\n",
      "48h ok244 done\n",
      "48h ok711 done\n",
      "48h osm6nlsrfp done\n",
      "48h ptp3SAX done\n",
      "48h rh310 done\n",
      "48h u74 done\n",
      "48h wy686 done\n",
      "48h WT done\n"
     ]
    }
   ],
   "source": [
    "WT = 'random'\n",
    "timepoint='48h'\n",
    "mutant=['e1745', 'eq1', 'hmnIs23 M153L2', 'ky146',\n",
    "        'ky146mu256', 'm86sa204', 'M132L4', 'M144L2 N2',\n",
    "        'M157L1', 'mu256', 'nj53', 'ok244', 'ok711', \n",
    "        'osm6nlsrfp', 'ptp3SAX', 'rh310', 'u74', 'wy686', 'WT']\n",
    "\n",
    "for mut in mutant:\n",
    "    applyAll(WT, mut, timepoint)\n",
    "    print(timepoint, mut, 'done')"
   ]
  },
  {
   "cell_type": "raw",
   "metadata": {
    "deletable": true,
    "editable": true
   },
   "source": [
    "# genotype v. WT\n",
    "\n",
    "WT = 'WT'\n",
    "timepoint = ['24h', '72h']\n",
    "mutant = ['ky146', 'mu256']\n",
    "\n",
    "for tp in timepoint:\n",
    "    for mut in mutant:\n",
    "        applyAll(WT, mut, tp)\n",
    "        print(tp, mut, 'done')\n",
    "\n",
    "applyAll('WT', 'rh310', '24h')\n",
    "\n",
    "timepoint='48h'\n",
    "mutant=['e1745', 'eq1', 'hmnIs23 M153L2', 'ky146',\n",
    "        'ky146mu256', 'm86sa204', 'M132L4', 'M144L2 N2',\n",
    "        'M157L1', 'mu256', 'nj53', 'ok244', 'ok711', \n",
    "        'osm6nlsrfp', 'ptp3SAX', 'rh310', 'u74', 'wy686',]\n",
    "\n",
    "\n",
    "for mut in mutant:\n",
    "    applyAll(WT, mut, timepoint)\n",
    "    print(timepoint, mut, 'done')"
   ]
  },
  {
   "cell_type": "code",
   "execution_count": 7,
   "metadata": {
    "collapsed": true
   },
   "outputs": [],
   "source": [
    "applyAll('ky146mu256', 'mu256', '48h')"
   ]
  },
  {
   "cell_type": "code",
   "execution_count": null,
   "metadata": {
    "collapsed": true
   },
   "outputs": [],
   "source": []
  }
 ],
 "metadata": {
  "anaconda-cloud": {},
  "kernelspec": {
   "display_name": "Python [conda root]",
   "language": "python",
   "name": "conda-root-py"
  },
  "language_info": {
   "codemirror_mode": {
    "name": "ipython",
    "version": 3
   },
   "file_extension": ".py",
   "mimetype": "text/x-python",
   "name": "python",
   "nbconvert_exporter": "python",
   "pygments_lexer": "ipython3",
   "version": "3.5.2"
  }
 },
 "nbformat": 4,
 "nbformat_minor": 1
}

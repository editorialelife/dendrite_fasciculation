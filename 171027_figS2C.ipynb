{
 "cells": [
  {
   "cell_type": "code",
   "execution_count": 2,
   "metadata": {
    "ExecuteTime": {
     "end_time": "2018-02-11T01:59:30.416364Z",
     "start_time": "2018-02-11T01:59:26.037201Z"
    },
    "collapsed": true
   },
   "outputs": [],
   "source": [
    "import pandas as pd\n",
    "import seaborn as sns\n",
    "from matplotlib import pyplot as plt\n",
    "%matplotlib inline"
   ]
  },
  {
   "cell_type": "code",
   "execution_count": 53,
   "metadata": {
    "collapsed": true
   },
   "outputs": [],
   "source": [
    "df = pd.read_clipboard(names=['AUA', \n",
    "                              'AMso process', \n",
    "                              'AMso fasciculated', \n",
    "                              'switchpoint'])"
   ]
  },
  {
   "cell_type": "code",
   "execution_count": 55,
   "metadata": {
    "collapsed": true
   },
   "outputs": [],
   "source": [
    "df = df[['switchpoint', \n",
    "         'AUA', \n",
    "         'AMso process', \n",
    "         'AMso fasciculated']]"
   ]
  },
  {
   "cell_type": "code",
   "execution_count": 56,
   "metadata": {
    "collapsed": true
   },
   "outputs": [
    {
     "data": {
      "text/html": [
       "<div>\n",
       "<style>\n",
       "    .dataframe thead tr:only-child th {\n",
       "        text-align: right;\n",
       "    }\n",
       "\n",
       "    .dataframe thead th {\n",
       "        text-align: left;\n",
       "    }\n",
       "\n",
       "    .dataframe tbody tr th {\n",
       "        vertical-align: top;\n",
       "    }\n",
       "</style>\n",
       "<table border=\"1\" class=\"dataframe\">\n",
       "  <thead>\n",
       "    <tr style=\"text-align: right;\">\n",
       "      <th></th>\n",
       "      <th>switchpoint</th>\n",
       "      <th>AUA</th>\n",
       "      <th>AMso process</th>\n",
       "      <th>AMso fasciculated</th>\n",
       "    </tr>\n",
       "  </thead>\n",
       "  <tbody>\n",
       "    <tr>\n",
       "      <th>0</th>\n",
       "      <td>3.347732</td>\n",
       "      <td>32.785</td>\n",
       "      <td>46.808</td>\n",
       "      <td>0.000</td>\n",
       "    </tr>\n",
       "    <tr>\n",
       "      <th>1</th>\n",
       "      <td>14.686825</td>\n",
       "      <td>22.042</td>\n",
       "      <td>42.640</td>\n",
       "      <td>6.990</td>\n",
       "    </tr>\n",
       "    <tr>\n",
       "      <th>2</th>\n",
       "      <td>8.639309</td>\n",
       "      <td>41.327</td>\n",
       "      <td>44.739</td>\n",
       "      <td>7.778</td>\n",
       "    </tr>\n",
       "    <tr>\n",
       "      <th>3</th>\n",
       "      <td>16.522678</td>\n",
       "      <td>31.218</td>\n",
       "      <td>42.976</td>\n",
       "      <td>9.962</td>\n",
       "    </tr>\n",
       "    <tr>\n",
       "      <th>4</th>\n",
       "      <td>13.390929</td>\n",
       "      <td>34.904</td>\n",
       "      <td>39.382</td>\n",
       "      <td>11.018</td>\n",
       "    </tr>\n",
       "    <tr>\n",
       "      <th>5</th>\n",
       "      <td>14.578834</td>\n",
       "      <td>25.591</td>\n",
       "      <td>43.299</td>\n",
       "      <td>11.289</td>\n",
       "    </tr>\n",
       "    <tr>\n",
       "      <th>6</th>\n",
       "      <td>4.427646</td>\n",
       "      <td>28.095</td>\n",
       "      <td>42.528</td>\n",
       "      <td>12.685</td>\n",
       "    </tr>\n",
       "    <tr>\n",
       "      <th>7</th>\n",
       "      <td>9.071274</td>\n",
       "      <td>27.999</td>\n",
       "      <td>43.371</td>\n",
       "      <td>14.718</td>\n",
       "    </tr>\n",
       "    <tr>\n",
       "      <th>8</th>\n",
       "      <td>16.954644</td>\n",
       "      <td>16.520</td>\n",
       "      <td>43.950</td>\n",
       "      <td>14.883</td>\n",
       "    </tr>\n",
       "    <tr>\n",
       "      <th>9</th>\n",
       "      <td>14.470842</td>\n",
       "      <td>38.368</td>\n",
       "      <td>46.846</td>\n",
       "      <td>15.142</td>\n",
       "    </tr>\n",
       "    <tr>\n",
       "      <th>10</th>\n",
       "      <td>17.278618</td>\n",
       "      <td>29.168</td>\n",
       "      <td>47.991</td>\n",
       "      <td>16.724</td>\n",
       "    </tr>\n",
       "    <tr>\n",
       "      <th>11</th>\n",
       "      <td>15.982721</td>\n",
       "      <td>28.596</td>\n",
       "      <td>49.932</td>\n",
       "      <td>16.799</td>\n",
       "    </tr>\n",
       "    <tr>\n",
       "      <th>12</th>\n",
       "      <td>2.375810</td>\n",
       "      <td>25.180</td>\n",
       "      <td>45.198</td>\n",
       "      <td>16.817</td>\n",
       "    </tr>\n",
       "    <tr>\n",
       "      <th>13</th>\n",
       "      <td>11.447084</td>\n",
       "      <td>29.174</td>\n",
       "      <td>46.091</td>\n",
       "      <td>16.926</td>\n",
       "    </tr>\n",
       "    <tr>\n",
       "      <th>14</th>\n",
       "      <td>22.786177</td>\n",
       "      <td>32.917</td>\n",
       "      <td>41.411</td>\n",
       "      <td>17.119</td>\n",
       "    </tr>\n",
       "    <tr>\n",
       "      <th>15</th>\n",
       "      <td>0.323974</td>\n",
       "      <td>25.748</td>\n",
       "      <td>48.995</td>\n",
       "      <td>17.410</td>\n",
       "    </tr>\n",
       "    <tr>\n",
       "      <th>16</th>\n",
       "      <td>8.747300</td>\n",
       "      <td>36.956</td>\n",
       "      <td>52.797</td>\n",
       "      <td>17.446</td>\n",
       "    </tr>\n",
       "    <tr>\n",
       "      <th>17</th>\n",
       "      <td>17.278618</td>\n",
       "      <td>25.531</td>\n",
       "      <td>42.718</td>\n",
       "      <td>17.651</td>\n",
       "    </tr>\n",
       "    <tr>\n",
       "      <th>18</th>\n",
       "      <td>12.634989</td>\n",
       "      <td>25.475</td>\n",
       "      <td>43.449</td>\n",
       "      <td>17.711</td>\n",
       "    </tr>\n",
       "    <tr>\n",
       "      <th>19</th>\n",
       "      <td>42.764579</td>\n",
       "      <td>35.486</td>\n",
       "      <td>50.626</td>\n",
       "      <td>18.778</td>\n",
       "    </tr>\n",
       "    <tr>\n",
       "      <th>20</th>\n",
       "      <td>NaN</td>\n",
       "      <td>22.326</td>\n",
       "      <td>47.668</td>\n",
       "      <td>19.772</td>\n",
       "    </tr>\n",
       "    <tr>\n",
       "      <th>21</th>\n",
       "      <td>NaN</td>\n",
       "      <td>30.157</td>\n",
       "      <td>45.343</td>\n",
       "      <td>21.027</td>\n",
       "    </tr>\n",
       "    <tr>\n",
       "      <th>22</th>\n",
       "      <td>NaN</td>\n",
       "      <td>28.834</td>\n",
       "      <td>39.059</td>\n",
       "      <td>21.291</td>\n",
       "    </tr>\n",
       "    <tr>\n",
       "      <th>23</th>\n",
       "      <td>NaN</td>\n",
       "      <td>28.086</td>\n",
       "      <td>49.137</td>\n",
       "      <td>30.675</td>\n",
       "    </tr>\n",
       "    <tr>\n",
       "      <th>24</th>\n",
       "      <td>NaN</td>\n",
       "      <td>23.323</td>\n",
       "      <td>NaN</td>\n",
       "      <td>NaN</td>\n",
       "    </tr>\n",
       "    <tr>\n",
       "      <th>25</th>\n",
       "      <td>NaN</td>\n",
       "      <td>29.974</td>\n",
       "      <td>NaN</td>\n",
       "      <td>NaN</td>\n",
       "    </tr>\n",
       "    <tr>\n",
       "      <th>26</th>\n",
       "      <td>NaN</td>\n",
       "      <td>33.536</td>\n",
       "      <td>NaN</td>\n",
       "      <td>NaN</td>\n",
       "    </tr>\n",
       "  </tbody>\n",
       "</table>\n",
       "</div>"
      ],
      "text/plain": [
       "    switchpoint     AUA  AMso process  AMso fasciculated\n",
       "0      3.347732  32.785        46.808              0.000\n",
       "1     14.686825  22.042        42.640              6.990\n",
       "2      8.639309  41.327        44.739              7.778\n",
       "3     16.522678  31.218        42.976              9.962\n",
       "4     13.390929  34.904        39.382             11.018\n",
       "5     14.578834  25.591        43.299             11.289\n",
       "6      4.427646  28.095        42.528             12.685\n",
       "7      9.071274  27.999        43.371             14.718\n",
       "8     16.954644  16.520        43.950             14.883\n",
       "9     14.470842  38.368        46.846             15.142\n",
       "10    17.278618  29.168        47.991             16.724\n",
       "11    15.982721  28.596        49.932             16.799\n",
       "12     2.375810  25.180        45.198             16.817\n",
       "13    11.447084  29.174        46.091             16.926\n",
       "14    22.786177  32.917        41.411             17.119\n",
       "15     0.323974  25.748        48.995             17.410\n",
       "16     8.747300  36.956        52.797             17.446\n",
       "17    17.278618  25.531        42.718             17.651\n",
       "18    12.634989  25.475        43.449             17.711\n",
       "19    42.764579  35.486        50.626             18.778\n",
       "20          NaN  22.326        47.668             19.772\n",
       "21          NaN  30.157        45.343             21.027\n",
       "22          NaN  28.834        39.059             21.291\n",
       "23          NaN  28.086        49.137             30.675\n",
       "24          NaN  23.323           NaN                NaN\n",
       "25          NaN  29.974           NaN                NaN\n",
       "26          NaN  33.536           NaN                NaN"
      ]
     },
     "execution_count": 56,
     "metadata": {},
     "output_type": "execute_result"
    }
   ],
   "source": [
    "df"
   ]
  },
  {
   "cell_type": "code",
   "execution_count": 3,
   "metadata": {
    "ExecuteTime": {
     "end_time": "2018-02-11T01:59:30.428516Z",
     "start_time": "2018-02-11T01:59:30.418868Z"
    },
    "scrolled": true
   },
   "outputs": [
    {
     "data": {
      "text/plain": [
       "'0.20.3'"
      ]
     },
     "execution_count": 3,
     "metadata": {},
     "output_type": "execute_result"
    }
   ],
   "source": [
    "pd.__version__"
   ]
  },
  {
   "cell_type": "code",
   "execution_count": 57,
   "metadata": {},
   "outputs": [
    {
     "data": {
      "image/png": "[encoded data removed]",
      "text/plain": [
       "<matplotlib.figure.Figure at 0x11c6ec6d8>"
      ]
     },
     "metadata": {},
     "output_type": "display_data"
    }
   ],
   "source": [
    "plt.figure(figsize=(20,20))\n",
    "sns.set_style('white')\n",
    "sns.swarmplot(data=df, alpha=0.7)\n",
    "plt.gca().invert_yaxis()\n",
    "plt.ylabel('Distance from nosetip (um)')\n",
    "plt.savefig(\"FigS2C.svg\")\n"
   ]
  },
  {
   "cell_type": "code",
   "execution_count": 58,
   "metadata": {
    "collapsed": true
   },
   "outputs": [],
   "source": [
    "from scipy.stats import pearsonr"
   ]
  },
  {
   "cell_type": "code",
   "execution_count": 61,
   "metadata": {},
   "outputs": [
    {
     "data": {
      "text/plain": [
       "(nan, 1.0)"
      ]
     },
     "execution_count": 61,
     "metadata": {},
     "output_type": "execute_result"
    }
   ],
   "source": [
    "pearsonr(df.switchpoint, df.switchpoint)"
   ]
  },
  {
   "cell_type": "code",
   "execution_count": null,
   "metadata": {
    "collapsed": true
   },
   "outputs": [],
   "source": []
  }
 ],
 "metadata": {
  "anaconda-cloud": {},
  "kernelspec": {
   "display_name": "Python 3",
   "language": "python",
   "name": "python3"
  },
  "language_info": {
   "codemirror_mode": {
    "name": "ipython",
    "version": 3
   },
   "file_extension": ".py",
   "mimetype": "text/x-python",
   "name": "python",
   "nbconvert_exporter": "python",
   "pygments_lexer": "ipython3",
   "version": "3.6.3"
  },
  "toc": {
   "nav_menu": {},
   "number_sections": true,
   "sideBar": true,
   "skip_h1_title": false,
   "title_cell": "Table of Contents",
   "title_sidebar": "Contents",
   "toc_cell": false,
   "toc_position": {},
   "toc_section_display": true,
   "toc_window_display": false
  }
 },
 "nbformat": 4,
 "nbformat_minor": 1
}
